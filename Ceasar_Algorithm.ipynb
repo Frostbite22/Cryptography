{
 "cells": [
  {
   "cell_type": "markdown",
   "metadata": {},
   "source": [
    "This is Ceasar Algorithm, 17/10/2019, 3IM"
   ]
  },
  {
   "cell_type": "code",
   "execution_count": 13,
   "metadata": {},
   "outputs": [],
   "source": [
    "french_alphabet = ['A','B','C','D','E','F','G','H','I','J','K','L','M','N','O','P','U','R','S','T','V','W','X','Y','Z']"
   ]
  },
  {
   "cell_type": "code",
   "execution_count": 14,
   "metadata": {},
   "outputs": [
    {
     "name": "stdout",
     "output_type": "stream",
     "text": [
      "25\n"
     ]
    }
   ],
   "source": [
    "print(len(french_alphabet))"
   ]
  },
  {
   "cell_type": "markdown",
   "metadata": {},
   "source": [
    "encryption algorithm function for Ceasar"
   ]
  },
  {
   "cell_type": "code",
   "execution_count": 15,
   "metadata": {},
   "outputs": [],
   "source": [
    "\n",
    "def ceasar_encrypt(alphabet,message,key):\n",
    "    encrypted_text = \"\"\n",
    "    for ind,caracter in enumerate(message):\n",
    "        encrypted_text+=alphabet[((alphabet.index(message[ind])+key)%len(alphabet))]   \n",
    "    return encrypted_text \n"
   ]
  },
  {
   "cell_type": "markdown",
   "metadata": {},
   "source": [
    "Testing the encryption function with instance"
   ]
  },
  {
   "cell_type": "code",
   "execution_count": 20,
   "metadata": {},
   "outputs": [
    {
     "name": "stdout",
     "output_type": "stream",
     "text": [
      "JILIBB\n"
     ]
    }
   ],
   "source": [
    "encrypted_text = ceasar_encrypt(french_alphabet,\"BADASS\",8)  \n",
    "print(encrypted_text)"
   ]
  },
  {
   "cell_type": "markdown",
   "metadata": {},
   "source": [
    "Decryption algorithm function for Ceasar "
   ]
  },
  {
   "cell_type": "code",
   "execution_count": 17,
   "metadata": {},
   "outputs": [],
   "source": [
    "def ceasar_decrypt(alphabet,message,key):\n",
    "    decrypted_text =\"\"\n",
    "    for ind,caracter in enumerate(message):\n",
    "        decrypted_text +=alphabet[((alphabet.index(message[ind])-key)%len(alphabet))] \n",
    "    return decrypted_text\n"
   ]
  },
  {
   "cell_type": "markdown",
   "metadata": {},
   "source": [
    "Testing the decryption function with instance"
   ]
  },
  {
   "cell_type": "code",
   "execution_count": 21,
   "metadata": {},
   "outputs": [
    {
     "name": "stdout",
     "output_type": "stream",
     "text": [
      "BADASS\n"
     ]
    }
   ],
   "source": [
    "decrypted = ceasar_decrypt(french_alphabet,\"JILIBB\",8) \n",
    "print(decrypted)"
   ]
  },
  {
   "cell_type": "code",
   "execution_count": null,
   "metadata": {},
   "outputs": [],
   "source": []
  }
 ],
 "metadata": {
  "kernelspec": {
   "display_name": "Python 3",
   "language": "python",
   "name": "python3"
  },
  "language_info": {
   "codemirror_mode": {
    "name": "ipython",
    "version": 3
   },
   "file_extension": ".py",
   "mimetype": "text/x-python",
   "name": "python",
   "nbconvert_exporter": "python",
   "pygments_lexer": "ipython3",
   "version": "3.7.3"
  }
 },
 "nbformat": 4,
 "nbformat_minor": 2
}
