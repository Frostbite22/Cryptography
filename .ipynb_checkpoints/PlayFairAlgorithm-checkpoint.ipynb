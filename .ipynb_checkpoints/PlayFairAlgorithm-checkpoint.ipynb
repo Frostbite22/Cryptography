{
 "cells": [
  {
   "cell_type": "markdown",
   "metadata": {},
   "source": [
    "Playfair algorithm for cryptography written by landoulsi med feres, using numpy library and python language "
   ]
  },
  {
   "cell_type": "code",
   "execution_count": 50,
   "metadata": {},
   "outputs": [],
   "source": [
    "import numpy as np "
   ]
  },
  {
   "cell_type": "code",
   "execution_count": 51,
   "metadata": {},
   "outputs": [],
   "source": [
    "alphabet = ['A','B','C','D','E','F','G','H','I','K','L','M','N','O','P','Q','R','S','T','U','V','W','X','Y','Z']"
   ]
  },
  {
   "cell_type": "code",
   "execution_count": 52,
   "metadata": {},
   "outputs": [
    {
     "name": "stdout",
     "output_type": "stream",
     "text": [
      "25\n"
     ]
    }
   ],
   "source": [
    "print(len(alphabet))"
   ]
  },
  {
   "cell_type": "code",
   "execution_count": 53,
   "metadata": {},
   "outputs": [],
   "source": [
    "alphabet_grid = []"
   ]
  },
  {
   "cell_type": "markdown",
   "metadata": {},
   "source": [
    "Encryption function"
   ]
  },
  {
   "cell_type": "code",
   "execution_count": 54,
   "metadata": {},
   "outputs": [],
   "source": [
    "def encrypt_playfair(key,message,alphabet):\n",
    "    global alphabet_grid\n",
    "    for caracter in key: \n",
    "        alphabet_grid += caracter.upper()   \n",
    "    #list comprehension that builds the grid components from the key and the alphabet\n",
    "    alphabet_grid_bool = [alphabet_grid.append(c) for c in alphabet if c not in key]\n",
    "    # reshaping the grid using numpy library (more efficent than nested loops with i,j as indexes)\n",
    "    np_alphabet_grid = np.reshape(alphabet_grid,(5,5))\n",
    "    #check if the message length is even or odd and add 'Z' if it is odd\n",
    "    if len(message)%2 == 0:\n",
    "        duo_message = [message[ind]+message[ind+1] for ind,car in enumerate(message[:len(message)-1]) if ind%2 ==0]\n",
    "    else:\n",
    "        message += 'Z'\n",
    "        duo_message = [message[ind]+message[ind+1] for ind,car in enumerate(message[:len(message)-1]) if ind%2 ==0]\n",
    "    print(message)\n",
    "    # start the encryption following the rules \n",
    "    encrypted_message = \"\"\n",
    "    for ind,ch in enumerate(duo_message):\n",
    "        first_c = np.argwhere(np_alphabet_grid == ch[0])\n",
    "        second_c = np.argwhere(np_alphabet_grid == ch[1])\n",
    "        #if the attached two letters are in the same row in the grid\n",
    "        if(first_c[0][1]==second_c[0][1]):\n",
    "            try:\n",
    "                encrypted_chunk = np_alphabet_grid[first_c[0][0]+1][first_c[0][1]] + np_alphabet_grid[second_c[0][0]+1][second_c[0][1]]\n",
    "                encrypted_message+= encrypted_chunk\n",
    "            except IndexError:\n",
    "                if (first_c[0][0]==4):\n",
    "                    encrypted_chunk = np_alphabet_grid[0][first_c[0][1]] + np_alphabet_grid[second_c[0][0]+1][second_c[0][1]]\n",
    "                    encrypted_message+= encrypted_chunk\n",
    "                if (second_c[0][0]==4):\n",
    "                    encrypted_chunk = np_alphabet_grid[first_c[0][0]+1][first_c[0][1]] + np_alphabet_grid[0][second_c[0][1]]\n",
    "                    encrypted_message+= encrypted_chunk     \n",
    "        #if the attached two letters are in the same column in the grid\n",
    "        elif(first_c[0][0]==second_c[0][0]):\n",
    "            try:\n",
    "                encrypted_chunk = np_alphabet_grid[first_c[0][0]][first_c[0][1]+1] + np_alphabet_grid[second_c[0][0]][second_c[0][1]+1]\n",
    "                encrypted_message+= encrypted_chunk\n",
    "            except IndexError:\n",
    "                if (second_c[0][1]==4):\n",
    "                    encrypted_chunk = np_alphabet_grid[first_c[0][0]][first_c[0][1]+1] + np_alphabet_grid[second_c[0][0]][0]\n",
    "                    encrypted_message+= encrypted_chunk\n",
    "                if (first_c[0][1]==4): \n",
    "                    encrypted_chunk = np_alphabet_grid[first_c[0][0]][0] + np_alphabet_grid[second_c[0][0]][second_c[0][1]+1]\n",
    "                    encrypted_message+= encrypted_chunk    \n",
    "        else: \n",
    "            encrypted_chunk = np_alphabet_grid[first_c[0][0]][second_c[0][1]] + np_alphabet_grid[second_c[0][0]][first_c[0][1]]\n",
    "            encrypted_message+= encrypted_chunk\n",
    " \n",
    "    return encrypted_message"
   ]
  },
  {
   "cell_type": "code",
   "execution_count": 55,
   "metadata": {
    "scrolled": true
   },
   "outputs": [
    {
     "name": "stdout",
     "output_type": "stream",
     "text": [
      "PASSIONZ\n",
      "VKXXELOY\n"
     ]
    }
   ],
   "source": [
    "encry = encrypt_playfair(\"DIRGE\",\"PASSION\",alphabet)\n",
    "print(encry)"
   ]
  },
  {
   "cell_type": "markdown",
   "metadata": {},
   "source": [
    "Decryption Function"
   ]
  },
  {
   "cell_type": "code",
   "execution_count": 56,
   "metadata": {},
   "outputs": [],
   "source": [
    "alphabet_grid = []"
   ]
  },
  {
   "cell_type": "code",
   "execution_count": 57,
   "metadata": {},
   "outputs": [],
   "source": [
    "def decrypt_playfair(key,message,alphabet):\n",
    "    global alphabet_grid\n",
    "    for caracter in key: \n",
    "        alphabet_grid += caracter.upper()   \n",
    "    #list comprehension that builds the grid components from the key and the alphabet\n",
    "    alphabet_grid_bool = [alphabet_grid.append(c) for c in alphabet if c not in key]\n",
    "    # reshaping the grid using numpy library (more efficent than nested loops with i,j as indexes)\n",
    "    np_alphabet_grid = np.reshape(alphabet_grid,(5,5))\n",
    "    duo_message = [message[ind]+message[ind+1] for ind,car in enumerate(message[:len(message)-1]) if ind%2 ==0]\n",
    "    #start decrypting\n",
    "    decrypted_message = \"\"\n",
    "    for ind,ch in enumerate(duo_message):\n",
    "        first_c = np.argwhere(np_alphabet_grid == ch[0])\n",
    "        second_c = np.argwhere(np_alphabet_grid == ch[1])\n",
    "        #if the attached two letters are in the same row in the grid\n",
    "        if(first_c[0][1]==second_c[0][1]):\n",
    "            try:\n",
    "                decrypted_chunk = np_alphabet_grid[first_c[0][0]-1][first_c[0][1]] + np_alphabet_grid[second_c[0][0]-1][second_c[0][1]]\n",
    "                decrypted_message+= decrypted_chunk\n",
    "            except IndexError:\n",
    "                if (first_c[0][0]==0):\n",
    "                    decrypted_chunk = np_alphabet_grid[4][first_c[0][1]] + np_alphabet_grid[second_c[0][0]-1][second_c[0][1]]\n",
    "                    decrypted_message+= decrypted_chunk\n",
    "                if (second_c[0][0]==0):\n",
    "                    decrypted_chunk = np_alphabet_grid[first_c[0][0]-1][first_c[0][1]] + np_alphabet_grid[4][second_c[0][1]]\n",
    "                    decrypted_message+= decrypted_chunk     \n",
    "    #if the attached two letters are in the same column in the grid\n",
    "        elif(first_c[0][0]==second_c[0][0]):\n",
    "            try:\n",
    "                decrypted_chunk = np_alphabet_grid[first_c[0][0]][first_c[0][1]-1] + np_alphabet_grid[second_c[0][0]][second_c[0][1]-1]\n",
    "                decrypted_message+= decrypted_chunk\n",
    "            except IndexError:\n",
    "                if (second_c[0][1]==0):\n",
    "                    decrypted_chunk = np_alphabet_grid[first_c[0][0]][first_c[0][1]-1] + np_alphabet_grid[second_c[0][0]][4]\n",
    "                    decrypted_message+= decrypted_chunk\n",
    "                if (first_c[0][1]==0): \n",
    "                    decrypted_chunk = np_alphabet_grid[first_c[0][0]][4] + np_alphabet_grid[second_c[0][0]][second_c[0][1]-1]\n",
    "                    decrypted_message+= decrypted_chunk    \n",
    "        else: \n",
    "            decrypted_chunk = np_alphabet_grid[first_c[0][0]][second_c[0][1]] + np_alphabet_grid[second_c[0][0]][first_c[0][1]]\n",
    "            decrypted_message+= decrypted_chunk\n",
    "            \n",
    "        \n",
    "    return decrypted_message"
   ]
  },
  {
   "cell_type": "code",
   "execution_count": 58,
   "metadata": {},
   "outputs": [
    {
     "name": "stdout",
     "output_type": "stream",
     "text": [
      "INSTRUMENTSZ\n"
     ]
    }
   ],
   "source": [
    "decry = decrypt_playfair(\"MONARCHY\",\"GATLMZCLRQTX\",alphabet)\n",
    "print(decry)"
   ]
  }
 ],
 "metadata": {
  "kernelspec": {
   "display_name": "Python 3",
   "language": "python",
   "name": "python3"
  },
  "language_info": {
   "codemirror_mode": {
    "name": "ipython",
    "version": 3
   },
   "file_extension": ".py",
   "mimetype": "text/x-python",
   "name": "python",
   "nbconvert_exporter": "python",
   "pygments_lexer": "ipython3",
   "version": "3.7.3"
  }
 },
 "nbformat": 4,
 "nbformat_minor": 2
}
